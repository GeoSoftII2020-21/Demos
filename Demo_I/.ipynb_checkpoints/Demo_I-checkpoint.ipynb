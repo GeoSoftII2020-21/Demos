{
 "cells": [
  {
   "cell_type": "code",
   "execution_count": null,
   "metadata": {},
   "outputs": [],
   "source": [
    "import requests\n",
    "import flask\n",
    "import sys\n",
    "import xarray as xr\n",
    "import matplotlib.pyplot as plt\n",
    "import shutil\n",
    "import urllib.request as request\n",
    "from contextlib import closing\n",
    "import netCDF4 as nc4\n",
    "import cartopy.crs as ccrs #Kann nur mit conda installiert werden\n",
    "from ftplib import FTP\n",
    "import datetime\n",
    "import os"
   ]
  },
  {
   "cell_type": "markdown",
   "metadata": {},
   "source": [
    "## Server Demo\n",
    "Der Server wurde mit dem Python Paket Flask initialisiert. Und gibt eine Dummy Antwort auf `localhost`. Die restlichen Endpunkte geben `None` zurück.  "
   ]
  },
  {
   "cell_type": "markdown",
   "metadata": {},
   "source": [
    "Damit wir dieses Notebook verlassen müssen, ist diese Zelle etwas eigenartig gebaut.\n",
    "\n",
    "Anleitung: \n",
    "1. Zelle normal auführen \n",
    "2. Den Kernel interupten\n",
    "3. Das richtige Ergebnis wird dann angezeigt werden \n",
    "\n",
    "Wir konnten keine elegantere Lösung finden."
   ]
  },
  {
   "cell_type": "code",
   "execution_count": null,
   "metadata": {},
   "outputs": [],
   "source": [
    "! python Server.py\n",
    "x = requests.get('http://localhost')\n",
    "y = requests.get('http://localhost/collections')\n",
    "print(x.json())\n",
    "print(y.json())"
   ]
  },
  {
   "cell_type": "markdown",
   "metadata": {},
   "source": [
    "## SST Berechnungs Demo\n",
    "\n",
    "Wenn ein Datacube im selben Verzeichnis, wie das Skript liegt, kann der Durchschnitt für ein Jahr oder einen Monat in einmem bestimmten Jahr berechnet werden.  "
   ]
  },
  {
   "cell_type": "code",
   "execution_count": null,
   "metadata": {},
   "outputs": [],
   "source": [
    "%run SST"
   ]
  },
  {
   "cell_type": "code",
   "execution_count": null,
   "metadata": {},
   "outputs": [],
   "source": [
    "#Damit die Datacubes erreicht werden können\n",
    "os.chdir('../demodata')"
   ]
  },
  {
   "cell_type": "markdown",
   "metadata": {},
   "source": [
    "Der Jahresdurchschnitt für das Jahr 1989:"
   ]
  },
  {
   "cell_type": "code",
   "execution_count": null,
   "metadata": {
    "scrolled": true
   },
   "outputs": [],
   "source": [
    "sst(1989,0)"
   ]
  },
  {
   "cell_type": "markdown",
   "metadata": {},
   "source": [
    "Der Durchschnitt für den November 2019:"
   ]
  },
  {
   "cell_type": "code",
   "execution_count": null,
   "metadata": {},
   "outputs": [],
   "source": [
    "sst(2019,11)"
   ]
  },
  {
   "cell_type": "code",
   "execution_count": null,
   "metadata": {},
   "outputs": [],
   "source": []
  }
 ],
 "metadata": {
  "kernelspec": {
   "display_name": "product_owner",
   "language": "python",
   "name": "product_owner"
  },
  "language_info": {
   "codemirror_mode": {
    "name": "ipython",
    "version": 3
   },
   "file_extension": ".py",
   "mimetype": "text/x-python",
   "name": "python",
   "nbconvert_exporter": "python",
   "pygments_lexer": "ipython3",
   "version": "3.8.5"
  }
 },
 "nbformat": 4,
 "nbformat_minor": 4
}
