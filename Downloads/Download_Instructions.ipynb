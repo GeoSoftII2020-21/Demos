{
 "cells": [
  {
   "cell_type": "markdown",
   "metadata": {},
   "source": [
    "# Installation der Demodaten\n",
    "\n",
    "1. Legt einen Ordner namens `demodata` in dem selben Verzeichnis, in dem die Demordner liegen, an. "
   ]
  },
  {
   "cell_type": "code",
   "execution_count": null,
   "metadata": {},
   "outputs": [],
   "source": [
    "%run datacube_sentinel\n",
    "%run datacube_sst\n",
    "import sys"
   ]
  },
  {
   "cell_type": "markdown",
   "metadata": {},
   "source": [
    "2. Download der SST Datensätzen der entsprechenden Jahre"
   ]
  },
  {
   "cell_type": "code",
   "execution_count": null,
   "metadata": {},
   "outputs": [],
   "source": [
    "download_sst(2017)"
   ]
  },
  {
   "cell_type": "code",
   "execution_count": null,
   "metadata": {},
   "outputs": [],
   "source": [
    "download_sst(1989)\n",
    "download_sst(2018)\n",
    "download_sst(2019)"
   ]
  },
  {
   "cell_type": "markdown",
   "metadata": {},
   "source": [
    "3. Mergen von 2018 und 2019"
   ]
  },
  {
   "cell_type": "markdown",
   "metadata": {},
   "source": [
    "Download des ersten Sentineldatacube. Die ZIP und SAFE-Dateien die heruntergeladen werden anschließend "
   ]
  },
  {
   "cell_type": "code",
   "execution_count": null,
   "metadata": {},
   "outputs": [],
   "source": [
    "'''Parameters for the download'''\n",
    "directory = '../demodata/'\n",
    "resolution = 100    #10, 20, 60, 100 möglich\n",
    "#BBOX so, dass nur eine Datei ausgewählt wird\n",
    "aoi = 'POLYGON ((7.506065368652344 51.49143089340988, 7.521171569824219 51.48747609488592, 7.51739501953125 51.49196529933168, 7.506065368652344 51.49143089340988))'\n",
    "clouds = (0,30)\n",
    "uname = '' #Der Scihub Nutzername\n",
    "pw = '' #Das Scihub Passwort"
   ]
  },
  {
   "cell_type": "code",
   "execution_count": null,
   "metadata": {},
   "outputs": [],
   "source": [
    "collectionDate = ('20200601', '20200610')\n",
    "\n",
    "main( resolution, directory, collectionDate, aoi, clouds, uname, pw, True, True)"
   ]
  },
  {
   "cell_type": "code",
   "execution_count": null,
   "metadata": {},
   "outputs": [],
   "source": [
    "collectionDate = ('20200206', '20200208')\n",
    "\n",
    "main( resolution, directory, collectionDate, aoi, clouds, uname, pw, True, True)"
   ]
  },
  {
   "cell_type": "markdown",
   "metadata": {},
   "source": [
    "Bauen des großen Datacubes aus Demo VI:"
   ]
  },
  {
   "cell_type": "code",
   "execution_count": null,
   "metadata": {},
   "outputs": [],
   "source": [
    "generate_sst_datacube(2016, 2019, '../demodata', \"SSTdatacube\")"
   ]
  }
 ],
 "metadata": {
  "kernelspec": {
   "display_name": "product_owner",
   "language": "python",
   "name": "product_owner"
  },
  "language_info": {
   "codemirror_mode": {
    "name": "ipython",
    "version": 3
   },
   "file_extension": ".py",
   "mimetype": "text/x-python",
   "name": "python",
   "nbconvert_exporter": "python",
   "pygments_lexer": "ipython3",
   "version": "3.8.5"
  }
 },
 "nbformat": 4,
 "nbformat_minor": 4
}
