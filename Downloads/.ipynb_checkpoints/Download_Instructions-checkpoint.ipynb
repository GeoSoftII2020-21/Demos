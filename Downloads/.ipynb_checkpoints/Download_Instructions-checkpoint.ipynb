{
 "cells": [
  {
   "cell_type": "markdown",
   "metadata": {},
   "source": [
    "# Installation der Demodaten\n",
    "\n",
    "1. Legt einen Ordner namens `demodata` in dem selben Verzeichnis, in dem die Demordner liegen, an. "
   ]
  },
  {
   "cell_type": "code",
   "execution_count": null,
   "metadata": {},
   "outputs": [],
   "source": [
    "%run datacube_sentinel\n",
    "%run get_demodata"
   ]
  },
  {
   "cell_type": "markdown",
   "metadata": {},
   "source": [
    "2. Download der SST Datensätzen der entsprechenden Jahre"
   ]
  },
  {
   "cell_type": "code",
   "execution_count": null,
   "metadata": {},
   "outputs": [],
   "source": [
    "download_sst(1981)"
   ]
  },
  {
   "cell_type": "code",
   "execution_count": null,
   "metadata": {},
   "outputs": [],
   "source": [
    "download_sst(1989)\n",
    "download_sst(2018)\n",
    "download_sst(2019)"
   ]
  },
  {
   "cell_type": "markdown",
   "metadata": {},
   "source": [
    "3. Mergen von 2018 und 2019"
   ]
  },
  {
   "cell_type": "code",
   "execution_count": null,
   "metadata": {},
   "outputs": [],
   "source": [
    "dc_18 = xr.open_dataset('../demodata/sst.day.mean.2018.nc')\n",
    "dc_19 = xr.open_dataset('../demodata/sst.day.mean.2019.nc')\n",
    "dc_18_19 = merge_datacubes([dc_18,dc_19])\n",
    "dc_18_19.to_netcdf('../demodata/sst.day.mean.2018_2019.nc')"
   ]
  },
  {
   "cell_type": "markdown",
   "metadata": {},
   "source": [
    "Download des ersten Sentineldatacube. Die ZIP und SAFE-Dateien die heruntergeladen werden anschließend "
   ]
  },
  {
   "cell_type": "code",
   "execution_count": 43,
   "metadata": {},
   "outputs": [],
   "source": [
    "'''Parameters for the download'''\n",
    "directory = '../demodata/'\n",
    "resolution = 100    #10, 20, 60, 100 möglich\n",
    "#BBOX so, dass nur eine Datei ausgewählt wird\n",
    "aoi = 'POLYGON ((7.506065368652344 51.49143089340988, 7.521171569824219 51.48747609488592, 7.51739501953125 51.49196529933168, 7.506065368652344 51.49143089340988))'\n",
    "clouds = (0,30)\n",
    "uname = '' #Der Scihub Nutzername\n",
    "pw = '' #Das Scihub Passwort"
   ]
  },
  {
   "cell_type": "code",
   "execution_count": null,
   "metadata": {},
   "outputs": [],
   "source": [
    "collectionDate = ('20200601', '20200610')\n",
    "\n",
    "main( resolution, directory, collectionDate, aoi, clouds, uname, pw, True, True)"
   ]
  },
  {
   "cell_type": "code",
   "execution_count": null,
   "metadata": {},
   "outputs": [],
   "source": [
    "collectionDate = ('20200206', '20200208')\n",
    "\n",
    "main( resolution, directory, collectionDate, aoi, clouds, uname, pw, True, True)"
   ]
  }
 ],
 "metadata": {
  "kernelspec": {
   "display_name": "product_owner",
   "language": "python",
   "name": "product_owner"
  },
  "language_info": {
   "codemirror_mode": {
    "name": "ipython",
    "version": 3
   },
   "file_extension": ".py",
   "mimetype": "text/x-python",
   "name": "python",
   "nbconvert_exporter": "python",
   "pygments_lexer": "ipython3",
   "version": "3.8.5"
  }
 },
 "nbformat": 4,
 "nbformat_minor": 4
}
