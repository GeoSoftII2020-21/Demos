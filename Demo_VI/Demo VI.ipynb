{
 "cells": [
  {
   "cell_type": "code",
   "execution_count": null,
   "id": "earlier-alloy",
   "metadata": {},
   "outputs": [],
   "source": [
    "%run ndvi.py\n",
    "%run mean_sst.py"
   ]
  },
  {
   "cell_type": "code",
   "execution_count": null,
   "id": "floppy-banner",
   "metadata": {},
   "outputs": [],
   "source": [
    "import xarray as xr\n",
    "import requests as rq\n",
    "import json\n",
    "import hvplot.xarray"
   ]
  },
  {
   "cell_type": "markdown",
   "id": "complex-chester",
   "metadata": {},
   "source": [
    "## Server\n",
    "\n",
    "#### Verwalten von Jobs\n",
    "\n",
    "Die Jobs können jetzt gepatch werden, falls der Nutzer einem Job nochmal Änderungen hinzufügen möchte. \n",
    "\n",
    "Ein Beispiel:"
   ]
  },
  {
   "cell_type": "code",
   "execution_count": null,
   "id": "enormous-leadership",
   "metadata": {},
   "outputs": [],
   "source": [
    "lamejob = {\n",
    "  \"title\": \"Lame Title\",\n",
    "  \"description\": \"Example Description\",\n",
    "  \"process\": {\n",
    "    \"process_graph\": {\n",
    "      \"loadcollection1\": {\n",
    "        \"process_id\": \"load_collection\",\n",
    "        \"arguments\": {\n",
    "          \"timeframe\" : [\"01-06-2020 00:00:00\",\"10-06-2020 00:00:00\",\"%d-%m-%Y %H:%M:%S\"],\n",
    "          \"DataType\": \"Sentinel2\",\n",
    "          \"cloudcoverage\":[0,30],\n",
    "          \"Login\":['username', 'pw']\n",
    "        }\n",
    "        },\n",
    "        \"ndvi\": {\n",
    "        \"process_id\": \"ndvi\",\n",
    "        \"arguments\": {\n",
    "          \"data\":{\n",
    "              \"from_node\": \"loadcollection1\"\n",
    "          }\n",
    "        }\n",
    "        },\n",
    "        \"save\":{\n",
    "            \"process_id\": \"save_result\",\n",
    "            \"arguments\":{\n",
    "                \"SaveData\":{\n",
    "                    \"from_node\":\"ndvi\"\n",
    "                },\n",
    "                \"Format\": \"netcdf\"\n",
    "            }\n",
    "        }\n",
    "      }\n",
    "      }\n",
    "    }"
   ]
  },
  {
   "cell_type": "markdown",
   "id": "quick-usage",
   "metadata": {},
   "source": [
    "Posten des Jobs:"
   ]
  },
  {
   "cell_type": "code",
   "execution_count": null,
   "id": "thousand-disposal",
   "metadata": {},
   "outputs": [],
   "source": [
    "#Den Testdaten an /jobs Posten\n",
    "rq.post(\"http://localhost:8080/api/v1/jobs\", json=lamejob, headers={\"Content-Type\": \"application/json\"})"
   ]
  },
  {
   "cell_type": "markdown",
   "id": "global-brighton",
   "metadata": {},
   "source": [
    "Abrufen der Job Id:"
   ]
  },
  {
   "cell_type": "code",
   "execution_count": null,
   "id": "executed-wonder",
   "metadata": {},
   "outputs": [],
   "source": [
    "j = rq.get(\"http://localhost:8080/api/v1/jobs\")\n",
    "rjson = j.json()\n",
    "# Die Id des neusten Job abspeichern für spätere Verwendung\n",
    "job_id = rjson['jobs'][-1]['id']\n",
    "rjson"
   ]
  },
  {
   "cell_type": "markdown",
   "id": "architectural-chart",
   "metadata": {},
   "source": [
    "Verbesster Job:"
   ]
  },
  {
   "cell_type": "code",
   "execution_count": null,
   "id": "equipped-exception",
   "metadata": {},
   "outputs": [],
   "source": [
    "cooljob = {\n",
    "  \"title\": \"Cool Title\",\n",
    "  \"description\": \"Example Description\",\n",
    "  \"process\": {\n",
    "    \"process_graph\": {\n",
    "      \"loadcollection1\": {\n",
    "        \"process_id\": \"load_collection\",\n",
    "        \"arguments\": {\n",
    "          \"timeframe\" : [\"01-06-2020 00:00:00\",\"10-06-2020 00:00:00\",\"%d-%m-%Y %H:%M:%S\"],\n",
    "          \"DataType\": \"Sentinel2\",\n",
    "          \"cloudcoverage\":[0,30],\n",
    "          \"Login\":['username', 'pw']\n",
    "        }\n",
    "        },\n",
    "        \"ndvi\": {\n",
    "        \"process_id\": \"ndvi\",\n",
    "        \"arguments\": {\n",
    "          \"data\":{\n",
    "              \"from_node\": \"loadcollection1\"\n",
    "          }\n",
    "        }\n",
    "        },\n",
    "        \"save\":{\n",
    "            \"process_id\": \"save_result\",\n",
    "            \"arguments\":{\n",
    "                \"SaveData\":{\n",
    "                    \"from_node\":\"ndvi\"\n",
    "                },\n",
    "                \"Format\": \"netcdf\"\n",
    "            }\n",
    "        }\n",
    "      }\n",
    "      }\n",
    "    }"
   ]
  },
  {
   "cell_type": "markdown",
   "id": "younger-mumbai",
   "metadata": {},
   "source": [
    "Die Patch Request:"
   ]
  },
  {
   "cell_type": "code",
   "execution_count": null,
   "id": "swiss-puzzle",
   "metadata": {},
   "outputs": [],
   "source": [
    "rq.patch(\"http://localhost:8080/api/v1/jobs/\" + job_id  , json=cooljob, headers={\"Content-Type\": \"application/json\"})"
   ]
  },
  {
   "cell_type": "markdown",
   "id": "stuffed-crash",
   "metadata": {},
   "source": [
    "Der veränderte Job in der Jobübersicht"
   ]
  },
  {
   "cell_type": "code",
   "execution_count": null,
   "id": "bronze-skill",
   "metadata": {},
   "outputs": [],
   "source": [
    "j = rq.get(\"http://localhost:8080/api/v1/jobs\")\n",
    "rjson = j.json()\n",
    "rjson"
   ]
  },
  {
   "cell_type": "markdown",
   "id": "cultural-wealth",
   "metadata": {},
   "source": [
    "## Datenverwaltung\n",
    "\n",
    "Die Anwendung lädt jetzt schon bei `docker-compose up` die gewünschten Datenmengen herunter. Dies lässt sich über die Enviroment Variable im docker-compose.yml einstellen. Hier einmal die Einstellungen für diese Demo:\n",
    "\n",
    "```yml\n",
    "environment:\n",
    "      - DOCKER=True\n",
    "      - Username=bugmenot\n",
    "      - Password=bugmenot\n",
    "      - load_sst=False\n",
    "      - load_sentinel=False\n",
    "      - SST_Start=2012\n",
    "      - SST_End=2012\n",
    "      - Sentinel_Start=2020-06-01T00:00:00Z\n",
    "      - Sentinel_End=2020-06-10T00:00:00Z\n",
    "```\n",
    "\n",
    "Auch ein Mount von lokalen Dateien ist möglich. "
   ]
  },
  {
   "cell_type": "markdown",
   "id": "turned-mission",
   "metadata": {},
   "source": [
    "## NDVI Bug\n",
    "\n",
    "Der NDVI Bug von letzter Woche ist behoben. Wir haben vorher schonmal einen Job durchlaufen lassen, um das zu zeigen. Die Umrechnung mit -1 ist nicht mehr nötig und der Server liefert so das richtige Ergebnis."
   ]
  },
  {
   "cell_type": "code",
   "execution_count": null,
   "id": "written-cable",
   "metadata": {},
   "outputs": [],
   "source": [
    "ndvi = xr.open_dataset('Euer Downloadpfad')\n",
    "ndvi.hvplot(cmap=\"BrBG\",frame_height=549, frame_width=549)"
   ]
  },
  {
   "cell_type": "markdown",
   "id": "closing-excellence",
   "metadata": {},
   "source": [
    "Damit dieses Beispiel rekreiieren werden kann folgt diesen Schritten:\n",
    "\n",
    "1. Führt `docker-compose up` in den Verzeichnis Demo_VI aus.\n",
    "2. Legt folgendes Job JSON an und setzt eure SCIHUB Kontoinformationen:\n",
    "```JSON\n",
    "{\n",
    "  \"title\": \"Example Title\",\n",
    "  \"description\": \"Example Description\",\n",
    "  \"process\": {\n",
    "    \"process_graph\": {\n",
    "      \"loadcollection1\": {\n",
    "        \"process_id\": \"load_collection\",\n",
    "        \"arguments\": {\n",
    "          \"timeframe\" : [\"01-06-2020 00:00:00\",\"01-06-2020 00:00:00\",\"%d-%m-%Y %H:%M:%S\"],\n",
    "          \"DataType\": \"Sentinel2\",\n",
    "          \"cloudcoverage\":[0,30],\n",
    "          \"Login\":[<SCIHUB USERNAME>, <SCIHUB PASSWORT>]\n",
    "        }\n",
    "        },\n",
    "        \"ndvi\": {\n",
    "        \"process_id\": \"ndvi\",\n",
    "        \"arguments\": {\n",
    "          \"data\":{\n",
    "              \"from_node\": \"loadcollection1\"\n",
    "          }\n",
    "        }\n",
    "        },\n",
    "        \"save\":{\n",
    "            \"process_id\": \"save_result\",\n",
    "            \"arguments\":{\n",
    "                \"SaveData\":{\n",
    "                    \"from_node\":\"ndvi\"\n",
    "                },\n",
    "                \"Format\": \"netcdf\"\n",
    "            }\n",
    "        }\n",
    "      }\n",
    "      }\n",
    "    }\n",
    "```\n",
    "3. Folgt den Schritten für das ausführen eines Jobs in Demo IV und V."
   ]
  },
  {
   "cell_type": "markdown",
   "id": "floating-bread",
   "metadata": {},
   "source": [
    "## SST \n",
    "\n",
    "#### Größere Berechnung\n",
    "\n",
    "Um die Vorteile der SST des Einsatzes von Dask zu zeigen, wird im folgenden eine Berechnung über einen Zeitraum von Vier Jahren gemacht(2016-2019)"
   ]
  },
  {
   "cell_type": "code",
   "execution_count": null,
   "id": "opening-classic",
   "metadata": {},
   "outputs": [],
   "source": [
    "big_cube = xr.open_dataset('../demodata/SSTdatacube.nc', chunks='auto')\n",
    "big_cube.sst"
   ]
  },
  {
   "cell_type": "code",
   "execution_count": null,
   "id": "restricted-optimum",
   "metadata": {},
   "outputs": [],
   "source": [
    "%%time\n",
    "sst_16_19 = wrapper_mean_sst(big_cube, [\"2016-01-01\", \"2019-12-31\"])"
   ]
  },
  {
   "cell_type": "code",
   "execution_count": null,
   "id": "unique-voltage",
   "metadata": {},
   "outputs": [],
   "source": [
    "sst_16_19.hvplot(cmap=\"coolwarm\")"
   ]
  },
  {
   "cell_type": "markdown",
   "id": "recreational-jewel",
   "metadata": {},
   "source": [
    "## Tests\n",
    "\n",
    "#### End-To-End Test\n",
    "\n",
    "Der [End-To-End Testflow](https://github.com/GeoSoftII2020-21/TestRepo/runs/1797232156?check_suite_focus=true) läuft jetzt durch. Dabei werden zwei Jobs (SST und NDVI) angelegt.  \n",
    "Dann werden die die Endpoints der API überprüft und die Jobs gestartet. Der Ablauf und die Ergebnisse der Jobs werden dann auch geprüft. Die Anzahl der Werte wird am Ende überprüft."
   ]
  }
 ],
 "metadata": {
  "kernelspec": {
   "display_name": "product_owner",
   "language": "python",
   "name": "product_owner"
  },
  "language_info": {
   "codemirror_mode": {
    "name": "ipython",
    "version": 3
   },
   "file_extension": ".py",
   "mimetype": "text/x-python",
   "name": "python",
   "nbconvert_exporter": "python",
   "pygments_lexer": "ipython3",
   "version": "3.8.5"
  }
 },
 "nbformat": 4,
 "nbformat_minor": 5
}
