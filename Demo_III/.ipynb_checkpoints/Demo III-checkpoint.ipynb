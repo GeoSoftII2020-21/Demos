{
 "cells": [
  {
   "cell_type": "code",
   "execution_count": null,
   "metadata": {},
   "outputs": [],
   "source": [
    "import json\n",
    "import os\n",
    "import requests\n",
    "import matplotlib.pyplot as plt\n",
    "import holoviews as hv\n",
    "from holoviews.operation.datashader import datashade\n",
    "import hvplot.xarray\n",
    "import pytest\n",
    "import xarray as xr\n",
    "hv.extension('bokeh', width=100)"
   ]
  },
  {
   "cell_type": "markdown",
   "metadata": {},
   "source": [
    "## 1. API \n",
    "\n",
    "Das [Docker Repo](https://hub.docker.com/r/felixgi1516/geosoft2_frontend/) enthält jetzt ein funktionierendes Image des API Repos auf Github.\n",
    "\n",
    "#### Anlegen des Docker Containers:\n",
    "\n",
    "Image herunterladen und als Container starten:\n",
    "\n",
    "Mit dem folgenden Befehl kann man das Image herunterladen und starten:\n",
    "```bash\n",
    "docker run --name fe_server_ii -p 80:80 felixgi1516/geosoft2_frontend:latest\n",
    "```\n",
    "\n",
    "Dabei entsteht ein Docker Container mit Namen `fe_server_ii` welches auf den Port 80 hört."
   ]
  },
  {
   "cell_type": "code",
   "execution_count": null,
   "metadata": {},
   "outputs": [],
   "source": [
    "#Starten des Containers\n",
    "! docker start fe_server_ii"
   ]
  },
  {
   "cell_type": "markdown",
   "metadata": {},
   "source": [
    "Die Beschreibungen der Prozesse sind keine Platzhalter mehr, sondern sind auf unsere Prozesse angepasst. "
   ]
  },
  {
   "cell_type": "code",
   "execution_count": null,
   "metadata": {},
   "outputs": [],
   "source": [
    "#Load in Processes Response JSON\n",
    "z = requests.get('http://localhost/api/v1/processes')\n",
    "processes  = 'Processes:\\n \\n'+ json.dumps(z.json(),indent=1) + '\\n \\n'\n",
    "\n",
    "print(processes)"
   ]
  },
  {
   "cell_type": "code",
   "execution_count": null,
   "metadata": {},
   "outputs": [],
   "source": [
    "#Stoppen des Servers\n",
    "! docker stop fe_server_ii"
   ]
  },
  {
   "cell_type": "markdown",
   "metadata": {},
   "source": [
    "## 2. Datacubes\n",
    "\n",
    "#### 2.1. Sentinel Datacubes\n",
    "\n",
    "Der automaisierte Download von Sentinel SAFE Dateien funktoioniert ohne Weiteres. Da der Download aufgrund der großen Dateien aber etwas dauert, wird er hier nicht gezeigt. \n",
    "\n",
    "Auch Umwandlung und Mergen der SAFE Dateien ist zeitaufwendig, deshalb wird es nur an dieser Stelle nur besprochen. \n",
    "\n",
    "So sieht der Aufruf für den folgenden Beispiel Datacube aus:  \n",
    "```\n",
    "directory = 'C:/GIS/demodata/'\n",
    "resolution = 100    #10, 20, 60, 100 möglich\n",
    "\n",
    "'''Parameters for the download'''\n",
    "#BBOX für Münster\n",
    "aoi = 'POLYGON((7.52834379254901 52.01238155392252,7.71417925515199 52.01183230436206,7.705255583805303 51.9153349236737,7.521204845259327 51.90983021961716,7.52834379254901 52.01238155392252,7.52834379254901 52.01238155392252))'\n",
    "collectionDate = ('20200601', '20200610')\n",
    "clouds = (0,30)\n",
    "\n",
    "main( resolution, directory, collectionDate, aoi, clouds, username, password, True, False)\n",
    "```\n",
    "\n",
    "Die Auswahl der umzuwandelden Bilder kann über **Auflösung** (10 x 10m, 20 x 20m, 30 x 30m, 100 x 100m), **Area of Interest** (Als Polygon mit Eckkoordinaten), **Aufnahmezeitraum** und **Wolkenbedeckung**."
   ]
  },
  {
   "cell_type": "markdown",
   "metadata": {},
   "source": [
    "Der Beispieldatensatz des Sentinel Tiles [32ULC](https://maps.eatlas.org.au/index.html?intro=false&z=7&ll=8,52&l0=ea_ref%3AWorld_ESA_Sentinel-2-tiling-grid_Poly,ea_ea-be%3AWorld_Bright-Earth-e-Atlas-basemap,google_HYBRID,google_TERRAIN,google_SATELLITE,google_ROADMAP&v0=,,f,f,f,f) im Februar 2020:"
   ]
  },
  {
   "cell_type": "code",
   "execution_count": null,
   "metadata": {},
   "outputs": [],
   "source": [
    "print(os.listdir('../demodata'))\n",
    "dc = xr.open_dataset('../demodata/datacube_2020-06-01_T32ULC_R100.nc')\n",
    "dc"
   ]
  },
  {
   "cell_type": "markdown",
   "metadata": {},
   "source": [
    "##### Der rote Kanal des Datensatzes"
   ]
  },
  {
   "cell_type": "code",
   "execution_count": null,
   "metadata": {},
   "outputs": [],
   "source": [
    "dc.red.isel(time=0).hvplot(cmap=\"Gray\")"
   ]
  },
  {
   "cell_type": "markdown",
   "metadata": {},
   "source": [
    "##### Der Nahinfrarotkanal des Datensatzes "
   ]
  },
  {
   "cell_type": "code",
   "execution_count": null,
   "metadata": {},
   "outputs": [],
   "source": [
    "dc.nir.isel(time=0).hvplot(cmap=\"Gray\")"
   ]
  },
  {
   "cell_type": "markdown",
   "metadata": {},
   "source": [
    "#### 2.2 SST Datacubes\n",
    "Die SST Datencubes können auch heruntergeladen,gemergt und gespeichert werden.\n",
    "\n",
    "Eine Konversion der Daten ist nicht nötig, da es schon netCDF Daten sind. \n",
    "\n",
    "##### Ein gemergter Datacube für die Jahre 2018 und 2019:"
   ]
  },
  {
   "cell_type": "code",
   "execution_count": null,
   "metadata": {},
   "outputs": [],
   "source": [
    "ds_2018_2019 = xr.open_dataset(\"../demodata/sst.day.mean.2018_2019.nc\")"
   ]
  },
  {
   "cell_type": "code",
   "execution_count": null,
   "metadata": {},
   "outputs": [],
   "source": [
    "ds_2018_2019.sst.hvplot(groupby='time', cmap=\"coolwarm\")"
   ]
  },
  {
   "cell_type": "markdown",
   "metadata": {},
   "source": [
    "## 3. NDVI\n",
    "\n",
    "Mit den neuen Datacubes aus den Sentineldaten ist es jetzt möglich den NDVI zu berechnen."
   ]
  },
  {
   "cell_type": "code",
   "execution_count": null,
   "metadata": {},
   "outputs": [],
   "source": [
    "%run ndvi"
   ]
  },
  {
   "cell_type": "markdown",
   "metadata": {},
   "source": [
    "##### Der NDVI für die Region aus dem Beispiel Sentinel Datacube:"
   ]
  },
  {
   "cell_type": "code",
   "execution_count": null,
   "metadata": {},
   "outputs": [],
   "source": [
    "red_nir_ulc = prepareData('..\\demodata\\datacube_2020-06-01_T32ULC_R100.nc')\n",
    "ndvi_ulc = calculate(red_nir_ulc[0], red_nir_ulc[1])\n",
    "ndvi_ulc.hvplot(cmap='BrBG')"
   ]
  },
  {
   "cell_type": "markdown",
   "metadata": {},
   "source": [
    "##### Münster im Zoom:"
   ]
  },
  {
   "cell_type": "code",
   "execution_count": null,
   "metadata": {},
   "outputs": [],
   "source": [
    "ndvi_ulc[380:480,1000:1098].hvplot(cmap='BrBG')"
   ]
  },
  {
   "cell_type": "markdown",
   "metadata": {},
   "source": [
    "##### Der NDVI für das gleiche Tile im Februar 2020:"
   ]
  },
  {
   "cell_type": "code",
   "execution_count": null,
   "metadata": {},
   "outputs": [],
   "source": [
    "red_nir_feb = prepareData('..\\demodata\\datacube_2020-02-07_T32ULC_R100.nc')\n",
    "calculate_with_dask(red_nir_feb[0], red_nir_feb[1], '..\\demodata\\datacube_2020-02-07_T32ULC_R100_NDVI.nc')\n",
    "ndvi_feb =  xr.open_dataset(\"..\\demodata\\datacube_2020-02-07_T32ULC_R100_NDVI.nc\")\n",
    "ndvi_feb.hvplot(cmap='BrBG')"
   ]
  },
  {
   "cell_type": "markdown",
   "metadata": {},
   "source": [
    "##### Münster im Februar"
   ]
  },
  {
   "cell_type": "code",
   "execution_count": null,
   "metadata": {},
   "outputs": [],
   "source": [
    "ndvi_feb.__xarray_dataarray_variable__[380:480,1000:1098].hvplot(cmap='BrBG')"
   ]
  },
  {
   "cell_type": "markdown",
   "metadata": {},
   "source": [
    "## 4. SST"
   ]
  },
  {
   "cell_type": "code",
   "execution_count": null,
   "metadata": {},
   "outputs": [],
   "source": [
    "%run mean_sst"
   ]
  },
  {
   "cell_type": "markdown",
   "metadata": {},
   "source": [
    " ##### Berechnung des Standardwerts für den Beispiel Datnsatz von oben:"
   ]
  },
  {
   "cell_type": "code",
   "execution_count": null,
   "metadata": {},
   "outputs": [],
   "source": [
    "ds = xr.open_dataset(\"../demodata/sst.day.mean.2018_2019.nc\", chunks={\"time\": \"auto\"})\n",
    "\n",
    "x = wrapper_mean_sst(ds, ['2018-01-01','2019-12-31'], [0,30,50,80])\n",
    "\n",
    "x = xr.open_dataset(x)\n",
    "\n",
    "# visualisieren\n",
    "\n",
    "sst_x = hv.Dataset(x, kdims=['lon', 'lat'])\n",
    "sst_x = sst_x.to(hv.QuadMesh, kdims=[\"lon\", \"lat\"])\n",
    "get_ipython().run_line_magic('opts', 'RGB [width=900 height=600]')\n",
    "datashade(sst_x, precompute=True, cmap=plt.cm.RdBu_r)"
   ]
  },
  {
   "cell_type": "markdown",
   "metadata": {},
   "source": [
    "#### 4.2 Exceptions\n",
    "\n",
    "Die SST Methode wirft jetzt Exceptions bei unvollstäniger Parameterangabe oder Logikfehlern."
   ]
  },
  {
   "cell_type": "code",
   "execution_count": null,
   "metadata": {},
   "outputs": [],
   "source": [
    "# Unvollständige Parameter\n",
    "wrapper_mean_sst(ds,[0.1])\n",
    "wrapper_mean_sst(ds, ['2018-01-01','2020-12-31'], [0,30,50])\n",
    "\n",
    "# Logikfehler z.B. Längengrad > 90°\n",
    "wrapper_mean_sst(ds, ['2018-01-01','2020-12-31'], [180,30,50,80])\n",
    "wrapper_mean_sst(ds, ['2018-01-01','2020-12-31'], [0,30,50,80])"
   ]
  },
  {
   "cell_type": "markdown",
   "metadata": {},
   "source": [
    "## 5.  Testen\n",
    "Sowohl für den NDVI und SST gibt es jetzt Unittests. Unten wird lassen wir einmal Pytest laufen, um die Ergebnisse zu demonstrieren. "
   ]
  },
  {
   "cell_type": "code",
   "execution_count": null,
   "metadata": {},
   "outputs": [],
   "source": [
    "! pytest"
   ]
  },
  {
   "cell_type": "code",
   "execution_count": null,
   "metadata": {},
   "outputs": [],
   "source": []
  }
 ],
 "metadata": {
  "kernelspec": {
   "display_name": "product_owner",
   "language": "python",
   "name": "product_owner"
  },
  "language_info": {
   "codemirror_mode": {
    "name": "ipython",
    "version": 3
   },
   "file_extension": ".py",
   "mimetype": "text/x-python",
   "name": "python",
   "nbconvert_exporter": "python",
   "pygments_lexer": "ipython3",
   "version": "3.8.5"
  }
 },
 "nbformat": 4,
 "nbformat_minor": 4
}
